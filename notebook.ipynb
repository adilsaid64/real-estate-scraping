{
 "cells": [
  {
   "cell_type": "code",
   "execution_count": null,
   "metadata": {},
   "outputs": [],
   "source": [
    "from bs4 import BeautifulSoup\n",
    "from selenium import webdriver\n",
    "import time"
   ]
  },
  {
   "cell_type": "code",
   "execution_count": null,
   "metadata": {},
   "outputs": [],
   "source": [
    "driver = webdriver.Chrome()  \n",
    "\n",
    "url = 'https://www.openrent.co.uk/properties-to-rent/greater-london?term=Greater%20London'\n",
    "driver.get(url)\n",
    "\n",
    "# Automatically scroll the page\n",
    "scroll_pause_time = 2 \n",
    "screen_height = driver.execute_script(\"return window.screen.height;\")\n",
    "i = 1\n",
    "while True:\n",
    "    # Scroll down\n",
    "    driver.execute_script(f\"window.scrollTo(0, {screen_height * i});\")\n",
    "    i += 1\n",
    "    time.sleep(scroll_pause_time)\n",
    "\n",
    "    # Check if reaching the end of the page\n",
    "    scroll_height = driver.execute_script(\"return document.body.scrollHeight;\")\n",
    "    if screen_height * i > scroll_height:\n",
    "        break\n",
    "\n",
    "soup = BeautifulSoup(driver.page_source, \"html.parser\")\n",
    "\n",
    "driver.quit()"
   ]
  },
  {
   "cell_type": "code",
   "execution_count": null,
   "metadata": {},
   "outputs": [],
   "source": [
    "listings = soup.find_all('div', class_='lpcc')\n",
    "\n",
    "data = []\n",
    "\n",
    "for listing in listings:\n",
    "    title = listing.find('span', class_='listing-title').text.strip()\n",
    "    \n",
    "    price_per_month = listing.find('div', class_='pim').find('h2').text.strip()\n",
    "    \n",
    "    location_detail = listing.find('ul', class_='lic').text.strip()\n",
    "    \n",
    "    data.append({\n",
    "        'Title': title,\n",
    "        'Price Per Month': price_per_month,\n",
    "        'Location Detail': location_detail\n",
    "    })"
   ]
  },
  {
   "cell_type": "code",
   "execution_count": null,
   "metadata": {},
   "outputs": [],
   "source": [
    "import pandas as pd\n",
    "pd.DataFrame(data)"
   ]
  },
  {
   "cell_type": "code",
   "execution_count": null,
   "metadata": {},
   "outputs": [],
   "source": [
    "len(data)"
   ]
  },
  {
   "cell_type": "code",
   "execution_count": null,
   "metadata": {},
   "outputs": [],
   "source": []
  },
  {
   "cell_type": "code",
   "execution_count": null,
   "metadata": {},
   "outputs": [],
   "source": []
  },
  {
   "cell_type": "code",
   "execution_count": null,
   "metadata": {},
   "outputs": [],
   "source": []
  },
  {
   "cell_type": "code",
   "execution_count": null,
   "metadata": {},
   "outputs": [],
   "source": []
  },
  {
   "cell_type": "code",
   "execution_count": null,
   "metadata": {},
   "outputs": [],
   "source": []
  },
  {
   "cell_type": "code",
   "execution_count": null,
   "metadata": {},
   "outputs": [],
   "source": []
  }
 ],
 "metadata": {
  "kernelspec": {
   "display_name": "Python 3 (ipykernel)",
   "language": "python",
   "name": "python3"
  },
  "language_info": {
   "codemirror_mode": {
    "name": "ipython",
    "version": 3
   },
   "file_extension": ".py",
   "mimetype": "text/x-python",
   "name": "python",
   "nbconvert_exporter": "python",
   "pygments_lexer": "ipython3",
   "version": "3.9.2"
  }
 },
 "nbformat": 4,
 "nbformat_minor": 2
}
